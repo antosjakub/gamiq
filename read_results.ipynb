{
 "cells": [
  {
   "cell_type": "code",
   "execution_count": 3,
   "id": "96fead2d",
   "metadata": {},
   "outputs": [
    {
     "data": {
      "text/plain": [
       "(3, 3, 3, 3)"
      ]
     },
     "execution_count": 3,
     "metadata": {},
     "output_type": "execute_result"
    }
   ],
   "source": [
    "import numpy as np\n",
    "import re\n",
    "\n",
    "# Define possible values for each hyperparameter in the order you want the dimensions\n",
    "hidden_dim_options = [8, 32, 128]\n",
    "episodes_options = [500, 1500, 4500]\n",
    "gamma_options = [0.9, 0.95, 0.99]\n",
    "learning_rate_options = [0.001, 0.01, 0.1]\n",
    "\n",
    "# Create a mapping from value -> index for each parameter\n",
    "hidden_map = {v: i for i, v in enumerate(hidden_dim_options)}\n",
    "episodes_map = {v: i for i, v in enumerate(episodes_options)}\n",
    "gamma_map = {v: i for i, v in enumerate(gamma_options)}\n",
    "lr_map = {v: i for i, v in enumerate(learning_rate_options)}\n",
    "\n",
    "# Initialize 4D matrix\n",
    "results = np.full((3, 3, 3, 3), np.nan)\n",
    "\n",
    "# Read the file\n",
    "with open(\"results_gs.txt\", \"r\") as f:\n",
    "    content = f.read()\n",
    "\n",
    "# Split into blocks (each block has params + reward)\n",
    "blocks = content.strip().split(\"\\n\\n\")\n",
    "\n",
    "for block in blocks:\n",
    "    # Extract parameters\n",
    "    params_line, reward_line, *_ = block.split(\"\\n\")\n",
    "\n",
    "    # Parse parameters\n",
    "    hidden = int(re.search(r\"--hidden_dim'?,\\s*'?(\\d+)\", params_line).group(1))\n",
    "    episodes_val = int(re.search(r\"--episodes'?,\\s*'?(\\d+)\", params_line).group(1))\n",
    "    gamma = float(re.search(r\"--gamma'?,\\s*'?(\\d*\\.\\d+)\", params_line).group(1))\n",
    "    lr = float(re.search(r\"--learning_rate'?,\\s*'?(\\d*\\.\\d+)\", params_line).group(1))\n",
    "\n",
    "    # Parse reward\n",
    "    avg_reward = float(re.search(r\"average reward:\\s*([\\d\\.]+)\", reward_line).group(1))\n",
    "\n",
    "    # Store in array\n",
    "    results[\n",
    "        hidden_map[hidden],\n",
    "        episodes_map[episodes_val],\n",
    "        gamma_map[gamma],\n",
    "        lr_map[lr],\n",
    "    ] = avg_reward\n",
    "\n",
    "results.shape"
   ]
  },
  {
   "cell_type": "code",
   "execution_count": 4,
   "id": "db624415",
   "metadata": {},
   "outputs": [
    {
     "data": {
      "text/plain": [
       "array([[252.5, 112. , 276.9],\n",
       "       [290.6, 269.5, 278.7],\n",
       "       [293.8, 200.5, 110.3]])"
      ]
     },
     "execution_count": 4,
     "metadata": {},
     "output_type": "execute_result"
    }
   ],
   "source": [
    "results[0,0]"
   ]
  },
  {
   "cell_type": "code",
   "execution_count": 7,
   "id": "3e2d9e65",
   "metadata": {},
   "outputs": [],
   "source": [
    "import matplotlib.pyplot as plt"
   ]
  },
  {
   "cell_type": "code",
   "execution_count": 8,
   "id": "bb74132c",
   "metadata": {},
   "outputs": [
    {
     "data": {
      "text/plain": [
       "<matplotlib.image.AxesImage at 0x7ff2af2bf4d0>"
      ]
     },
     "execution_count": 8,
     "metadata": {},
     "output_type": "execute_result"
    },
    {
     "data": {
      "image/png": "[encoded data removed]",
      "text/plain": [
       "<Figure size 480x480 with 1 Axes>"
      ]
     },
     "metadata": {},
     "output_type": "display_data"
    }
   ],
   "source": [
    "plt.matshow(results[0,0])"
   ]
  }
 ],
 "metadata": {
  "kernelspec": {
   "display_name": "venv",
   "language": "python",
   "name": "python3"
  },
  "language_info": {
   "codemirror_mode": {
    "name": "ipython",
    "version": 3
   },
   "file_extension": ".py",
   "mimetype": "text/x-python",
   "name": "python",
   "nbconvert_exporter": "python",
   "pygments_lexer": "ipython3",
   "version": "3.13.3"
  }
 },
 "nbformat": 4,
 "nbformat_minor": 5
}
